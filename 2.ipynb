{
 "cells": [
  {
   "cell_type": "code",
   "execution_count": 13,
   "metadata": {},
   "outputs": [],
   "source": [
    "from collections import Counter\n",
    "from nltk import bigrams, trigrams\n",
    "from tabulate import tabulate\n",
    "import re"
   ]
  },
  {
   "cell_type": "code",
   "execution_count": 14,
   "metadata": {},
   "outputs": [],
   "source": [
    "# https://git.wmi.amu.edu.pl/ryssta/moj-2024-ns-cw/src/branch/main/challenging_america_50k_texts.zip\n",
    "file_name = './data/challenging_america_50k_texts.txt'\n",
    "with open(file_name, 'r') as file:\n",
    "    file_contents = file.read()\n",
    "\n",
    "text = re.sub(r'[^a-zA-z\\s]+', '', file_contents)\n",
    "text = text.strip('\\t\\r\\n')\n",
    "text = text.lower()\n",
    "word_list = text.split()"
   ]
  },
  {
   "cell_type": "code",
   "execution_count": 15,
   "metadata": {},
   "outputs": [
    {
     "name": "stdout",
     "output_type": "stream",
     "text": [
      "[('the', 1045827), ('of', 630648), ('and', 496188), ('to', 410609), ('a', 309302), ('in', 309085), ('that', 168335), ('is', 146755), ('it', 133838), ('for', 131568)]\n"
     ]
    }
   ],
   "source": [
    "unigram_counter = Counter(word_list)\n",
    "most_common_15000 = unigram_counter.most_common(15000)\n",
    "most_common_15000_words = [x[0] for x in most_common_15000]\n",
    "print(most_common_15000[:10])"
   ]
  },
  {
   "cell_type": "code",
   "execution_count": 16,
   "metadata": {},
   "outputs": [],
   "source": [
    "most_common_15000_words_set = set(most_common_15000_words)\n",
    "unknown_word_token = '[UNK]'\n",
    "\n",
    "def parseWord(word: str):\n",
    "    return unknown_word_token if word not in most_common_15000_words_set else word\n",
    "\n",
    "parsed_word_list = [parseWord(word) for word in word_list]"
   ]
  },
  {
   "cell_type": "code",
   "execution_count": 17,
   "metadata": {},
   "outputs": [
    {
     "name": "stdout",
     "output_type": "stream",
     "text": [
      "[(('[UNK]', '[UNK]'), 213550), (('of', 'the'), 173395), (('the', '[UNK]'), 140355), (('[UNK]', 'and'), 84323), (('[UNK]', 'of'), 81018), (('in', 'the'), 79826), (('to', 'the'), 61877), (('of', '[UNK]'), 59336), (('and', '[UNK]'), 58576), (('[UNK]', 'the'), 57570)]\n"
     ]
    }
   ],
   "source": [
    "bigram_counter = Counter(list(bigrams(parsed_word_list)))\n",
    "bigrams_most_common = bigram_counter.most_common()\n",
    "print(bigrams_most_common[:10])"
   ]
  },
  {
   "cell_type": "code",
   "execution_count": 18,
   "metadata": {},
   "outputs": [
    {
     "name": "stdout",
     "output_type": "stream",
     "text": [
      "[(('[UNK]', '[UNK]', '[UNK]'), 43910), (('of', 'the', '[UNK]'), 22662), (('the', '[UNK]', 'of'), 20887), (('[UNK]', 'of', 'the'), 20796), (('[UNK]', 'and', '[UNK]'), 17426), (('the', '[UNK]', '[UNK]'), 16789), (('[UNK]', 'of', '[UNK]'), 11473), (('[UNK]', 'the', '[UNK]'), 11435), (('[UNK]', '[UNK]', 'and'), 11348), (('[UNK]', 'in', 'the'), 9253)]\n"
     ]
    }
   ],
   "source": [
    "trigram_counter = Counter(list(trigrams(parsed_word_list)))\n",
    "trigrams_most_common = trigram_counter.most_common()\n",
    "print(trigrams_most_common[:10])"
   ]
  },
  {
   "cell_type": "code",
   "execution_count": 19,
   "metadata": {},
   "outputs": [],
   "source": [
    "def find_matching_trigrams(word1, word2):\n",
    "    return [tup for tup in trigrams_most_common if tup[0][0] == word1 and tup[0][1] == word2 and tup[0][2] != unknown_word_token]"
   ]
  },
  {
   "cell_type": "code",
   "execution_count": 20,
   "metadata": {},
   "outputs": [
    {
     "name": "stdout",
     "output_type": "stream",
     "text": [
      "Phrase: this year\n",
      "+---------+------------------+---------------+\n",
      "|   Index | Predicted word   |   Probability |\n",
      "+=========+==================+===============+\n",
      "|       1 | the              |     0.0914286 |\n",
      "+---------+------------------+---------------+\n",
      "|       2 | and              |     0.0742857 |\n",
      "+---------+------------------+---------------+\n",
      "|       3 | in               |     0.04      |\n",
      "+---------+------------------+---------------+\n",
      "|       4 | will             |     0.0352381 |\n",
      "+---------+------------------+---------------+\n",
      "|       5 | is               |     0.0295238 |\n",
      "+---------+------------------+---------------+ \n",
      "\n",
      "Phrase: the mr\n",
      "+---------+------------------+---------------+\n",
      "|   Index | Predicted word   |   Probability |\n",
      "+=========+==================+===============+\n",
      "|       1 | i                |     0.0833333 |\n",
      "+---------+------------------+---------------+\n",
      "|       2 | wil              |     0.0833333 |\n",
      "+---------+------------------+---------------+\n",
      "|       3 | wilsons          |     0.0833333 |\n",
      "+---------+------------------+---------------+\n",
      "|       4 | huntington       |     0.0833333 |\n",
      "+---------+------------------+---------------+\n",
      "|       5 | j                |     0.0833333 |\n",
      "+---------+------------------+---------------+ \n",
      "\n",
      "Phrase: they have\n",
      "+---------+------------------+---------------+\n",
      "|   Index | Predicted word   |   Probability |\n",
      "+=========+==================+===============+\n",
      "|       1 | been             |     0.124351  |\n",
      "+---------+------------------+---------------+\n",
      "|       2 | not              |     0.0453676 |\n",
      "+---------+------------------+---------------+\n",
      "|       3 | a                |     0.0385351 |\n",
      "+---------+------------------+---------------+\n",
      "|       4 | no               |     0.0330691 |\n",
      "+---------+------------------+---------------+\n",
      "|       5 | to               |     0.0295163 |\n",
      "+---------+------------------+---------------+ \n",
      "\n",
      "Phrase: the best\n",
      "+---------+------------------+---------------+\n",
      "|   Index | Predicted word   |   Probability |\n",
      "+=========+==================+===============+\n",
      "|       1 | of               |     0.102949  |\n",
      "+---------+------------------+---------------+\n",
      "|       2 | and              |     0.0319498 |\n",
      "+---------+------------------+---------------+\n",
      "|       3 | interests        |     0.0229383 |\n",
      "+---------+------------------+---------------+\n",
      "|       4 | in               |     0.0202075 |\n",
      "+---------+------------------+---------------+\n",
      "|       5 | way              |     0.0155653 |\n",
      "+---------+------------------+---------------+ \n",
      "\n",
      "Phrase: a few\n",
      "+---------+------------------+---------------+\n",
      "|   Index | Predicted word   |   Probability |\n",
      "+=========+==================+===============+\n",
      "|       1 | days             |     0.148958  |\n",
      "+---------+------------------+---------------+\n",
      "|       2 | years            |     0.0763889 |\n",
      "+---------+------------------+---------------+\n",
      "|       3 | minutes          |     0.0526042 |\n",
      "+---------+------------------+---------------+\n",
      "|       4 | weeks            |     0.0506944 |\n",
      "+---------+------------------+---------------+\n",
      "|       5 | months           |     0.0369792 |\n",
      "+---------+------------------+---------------+ \n",
      "\n"
     ]
    }
   ],
   "source": [
    "def predict_next_word(word1: str, word2: str):\n",
    "    parsed_word_1 = parseWord(word1)\n",
    "    parsed_word_2 = parseWord(word2)\n",
    "    words_bigram_count = bigram_counter.get((parsed_word_1, parsed_word_2))\n",
    "    predictions = find_matching_trigrams(parsed_word_1, parsed_word_2)[:5]\n",
    "    result = [(i+1, tup[0][2], tup[1]/words_bigram_count) for i, tup in enumerate(predictions)]\n",
    "    return result\n",
    "\n",
    "\n",
    "test_list = [\n",
    "    \"this year\",\n",
    "    \"the mr\",\n",
    "    \"they have\",\n",
    "    \"the best\",\n",
    "    \"a few\"\n",
    "]\n",
    "\n",
    "for phrase in test_list:\n",
    "    words = phrase.split()\n",
    "    prediction_list = predict_next_word(words[0], words[1])\n",
    "    print(f'Phrase: {phrase}')\n",
    "    print(tabulate(prediction_list, headers=[\"Index\", \"Predicted word\", \"Probability\"], tablefmt=\"grid\"), '\\n')\n"
   ]
  },
  {
   "cell_type": "code",
   "execution_count": 21,
   "metadata": {},
   "outputs": [
    {
     "name": "stdout",
     "output_type": "stream",
     "text": [
      "Probability of sentence \"it has been a\": 3.035875468077675e-06\n",
      "+--------+---------------+------------------------+---------------------+\n",
      "|   Step | Sentence      |   New word probability |   Total probability |\n",
      "+========+===============+========================+=====================+\n",
      "|      0 | it            |             0.00845288 |         0.00845288  |\n",
      "+--------+---------------+------------------------+---------------------+\n",
      "|      1 | it has        |             0.0254113  |         0.000214799 |\n",
      "+--------+---------------+------------------------+---------------------+\n",
      "|      2 | it has been   |             0.342546   |         7.35786e-05 |\n",
      "+--------+---------------+------------------------+---------------------+\n",
      "|      3 | it has been a |             0.0412603  |         3.03588e-06 |\n",
      "+--------+---------------+------------------------+---------------------+ \n",
      "\n",
      "Probability of sentence \"it been has a\": 0\n",
      "+--------+-------------+------------------------+---------------------+\n",
      "|   Step | Sentence    |   New word probability |   Total probability |\n",
      "+========+=============+========================+=====================+\n",
      "|      0 | it          |            0.00845288  |         0.00845288  |\n",
      "+--------+-------------+------------------------+---------------------+\n",
      "|      1 | it been     |            0.000463247 |         3.91577e-06 |\n",
      "+--------+-------------+------------------------+---------------------+\n",
      "|      2 | it been has |            0           |         0           |\n",
      "+--------+-------------+------------------------+---------------------+ \n",
      "\n"
     ]
    }
   ],
   "source": [
    "def calculate_sentence_probability(sentence: str):\n",
    "    words = sentence.split()\n",
    "    steps = []\n",
    "    probability = 1.0\n",
    "\n",
    "    for index, word in enumerate(words):\n",
    "        if index == 0:\n",
    "            word_occurences = unigram_counter.get(word) or 0\n",
    "            total_word_count = len(word_list)\n",
    "            x = word_occurences / total_word_count\n",
    "            probability *= x\n",
    "        elif index == 1:\n",
    "            bigram_occurences = bigram_counter.get(tuple(words[:2])) or 0\n",
    "            first_word_occurences: int = unigram_counter.get(words[0])\n",
    "            x = bigram_occurences / first_word_occurences\n",
    "            probability *= x\n",
    "        else:\n",
    "            trigram_occurences = trigram_counter.get(tuple(words[index-2:index+1])) or 0\n",
    "            bigram_occurences: int = bigram_counter.get(tuple(words[index-2:index]))\n",
    "            x = trigram_occurences / bigram_occurences\n",
    "            probability *= x\n",
    "            \n",
    "        steps.append([index, ' '.join(words[:index+1]), x, probability])\n",
    "        if probability == 0:\n",
    "            return 0, steps\n",
    "\n",
    "    return probability, steps\n",
    "\n",
    "test_list = ['it has been a', 'it been has a']\n",
    "\n",
    "for sentence in test_list:\n",
    "    probability, steps = calculate_sentence_probability(sentence)\n",
    "    print(f'Probability of sentence \"{sentence}\": {probability}')\n",
    "    print(tabulate(steps, headers=[\"Step\", \"Sentence\", \"New word probability\", \"Total probability\"], tablefmt=\"grid\"),'\\n')"
   ]
  },
  {
   "cell_type": "code",
   "execution_count": 22,
   "metadata": {},
   "outputs": [],
   "source": [
    "def complete_sentence(sentence: str, length: int = 15):\n",
    "    words = sentence.split()\n",
    "    if (len(words) < 2):\n",
    "        raise ValueError(\"sentence string argument must contain at least three words\")\n",
    "    \n",
    "    parsed_word_1 = parseWord(words[-2])\n",
    "    parsed_word_2 = parseWord(words[-1])\n",
    "\n",
    "    most_likely_trigram = find_matching_trigrams(parsed_word_1, parsed_word_2)[0]\n",
    "    generated_word: str = most_likely_trigram[0][2]\n",
    "    new_sentence = sentence + ' ' + generated_word\n",
    "\n",
    "    if len(new_sentence.split()) == length:\n",
    "        return new_sentence\n",
    "    else:\n",
    "        return complete_sentence(new_sentence, length)\n",
    "    "
   ]
  },
  {
   "cell_type": "code",
   "execution_count": 23,
   "metadata": {},
   "outputs": [
    {
     "name": "stdout",
     "output_type": "stream",
     "text": [
      "it took a long time and place of beginning containing acres more or less to\n",
      "because there is no doubt that the said mortgage and the other hand the following\n",
      "actually it exercises its extreme authority to make a good deal of money and the\n",
      "in my opinion is that the said mortgage and the other hand the following described\n",
      "after a few days ago and the other hand the following described real estate and\n"
     ]
    }
   ],
   "source": [
    "test_list =[\n",
    "    \"it took\",\n",
    "    \"because there\",\n",
    "    \"actually it\",\n",
    "    \"in my\",\n",
    "    \"after a\",\n",
    "]\n",
    "\n",
    "for sentence in test_list:\n",
    "    completion = complete_sentence(sentence)\n",
    "    print(completion)\n"
   ]
  }
 ],
 "metadata": {
  "kernelspec": {
   "display_name": ".venv",
   "language": "python",
   "name": "python3"
  },
  "language_info": {
   "codemirror_mode": {
    "name": "ipython",
    "version": 3
   },
   "file_extension": ".py",
   "mimetype": "text/x-python",
   "name": "python",
   "nbconvert_exporter": "python",
   "pygments_lexer": "ipython3",
   "version": "3.10.12"
  }
 },
 "nbformat": 4,
 "nbformat_minor": 2
}
